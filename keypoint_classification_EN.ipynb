{
 "cells": [
  {
   "cell_type": "code",
   "execution_count": 1,
   "metadata": {
    "id": "igMyGnjE9hEp"
   },
   "outputs": [],
   "source": [
    "import csv\n",
    "\n",
    "import numpy as np\n",
    "import tensorflow as tf\n",
    "from sklearn.model_selection import train_test_split\n",
    "\n",
    "RANDOM_SEED = 42"
   ]
  },
  {
   "cell_type": "markdown",
   "metadata": {
    "id": "t2HDvhIu9hEr"
   },
   "source": [
    "# Specify each path"
   ]
  },
  {
   "cell_type": "code",
   "execution_count": 2,
   "metadata": {
    "id": "9NvZP2Zn9hEy"
   },
   "outputs": [],
   "source": [
    "dataset = 'model/keypoint_classifier/keypoint.csv'\n",
    "model_save_path = 'model/keypoint_classifier/keypoint_classifier.hdf5'\n",
    "tflite_save_path = 'model/keypoint_classifier/keypoint_classifier.tflite'"
   ]
  },
  {
   "cell_type": "markdown",
   "metadata": {
    "id": "s5oMH7x19hEz"
   },
   "source": [
    "# Set number of classes"
   ]
  },
  {
   "cell_type": "code",
   "execution_count": 3,
   "metadata": {
    "id": "du4kodXL9hEz"
   },
   "outputs": [],
   "source": [
    "NUM_CLASSES = 5"
   ]
  },
  {
   "cell_type": "markdown",
   "metadata": {
    "id": "XjnL0uso9hEz"
   },
   "source": [
    "# Dataset reading"
   ]
  },
  {
   "cell_type": "code",
   "execution_count": 4,
   "metadata": {
    "id": "QT5ZqtEz9hE0"
   },
   "outputs": [],
   "source": [
    "X_dataset = np.loadtxt(dataset, delimiter=',', dtype='float32', usecols=list(range(1, (21 * 2) + 1)))"
   ]
  },
  {
   "cell_type": "code",
   "execution_count": 5,
   "metadata": {
    "id": "QmoKFsp49hE0"
   },
   "outputs": [],
   "source": [
    "y_dataset = np.loadtxt(dataset, delimiter=',', dtype='int32', usecols=(0))"
   ]
  },
  {
   "cell_type": "code",
   "execution_count": 6,
   "metadata": {
    "id": "xQU7JTZ_9hE0"
   },
   "outputs": [],
   "source": [
    "X_train, X_test, y_train, y_test = train_test_split(X_dataset, y_dataset, train_size=0.75, random_state=RANDOM_SEED)"
   ]
  },
  {
   "cell_type": "markdown",
   "metadata": {
    "id": "mxK_lETT9hE0"
   },
   "source": [
    "# Model building"
   ]
  },
  {
   "cell_type": "code",
   "execution_count": 7,
   "metadata": {
    "id": "vHBmUf1t9hE1"
   },
   "outputs": [],
   "source": [
    "model = tf.keras.models.Sequential([\n",
    "    tf.keras.layers.Input((21 * 2, )),\n",
    "    tf.keras.layers.Dropout(0.2),\n",
    "    tf.keras.layers.Dense(20, activation='relu'),\n",
    "    tf.keras.layers.Dropout(0.4),\n",
    "    tf.keras.layers.Dense(10, activation='relu'),\n",
    "    tf.keras.layers.Dense(NUM_CLASSES, activation='softmax')\n",
    "])"
   ]
  },
  {
   "cell_type": "code",
   "execution_count": 8,
   "metadata": {
    "colab": {
     "base_uri": "https://localhost:8080/"
    },
    "id": "ypqky9tc9hE1",
    "outputId": "5db082bb-30e3-4110-bf63-a1ee777ecd46"
   },
   "outputs": [
    {
     "name": "stdout",
     "output_type": "stream",
     "text": [
      "Model: \"sequential\"\n",
      "_________________________________________________________________\n",
      " Layer (type)                Output Shape              Param #   \n",
      "=================================================================\n",
      " dropout (Dropout)           (None, 42)                0         \n",
      "                                                                 \n",
      " dense (Dense)               (None, 20)                860       \n",
      "                                                                 \n",
      " dropout_1 (Dropout)         (None, 20)                0         \n",
      "                                                                 \n",
      " dense_1 (Dense)             (None, 10)                210       \n",
      "                                                                 \n",
      " dense_2 (Dense)             (None, 5)                 55        \n",
      "                                                                 \n",
      "=================================================================\n",
      "Total params: 1,125\n",
      "Trainable params: 1,125\n",
      "Non-trainable params: 0\n",
      "_________________________________________________________________\n"
     ]
    }
   ],
   "source": [
    "model.summary()  # tf.keras.utils.plot_model(model, show_shapes=True)"
   ]
  },
  {
   "cell_type": "code",
   "execution_count": 9,
   "metadata": {
    "id": "MbMjOflQ9hE1"
   },
   "outputs": [],
   "source": [
    "# Model checkpoint callback\n",
    "cp_callback = tf.keras.callbacks.ModelCheckpoint(\n",
    "    model_save_path, verbose=1, save_weights_only=False)\n",
    "# Callback for early stopping\n",
    "es_callback = tf.keras.callbacks.EarlyStopping(patience=20, verbose=1)"
   ]
  },
  {
   "cell_type": "code",
   "execution_count": 10,
   "metadata": {
    "id": "c3Dac0M_9hE2"
   },
   "outputs": [],
   "source": [
    "# Model compilation\n",
    "model.compile(\n",
    "    optimizer='adam',\n",
    "    loss='sparse_categorical_crossentropy',\n",
    "    metrics=['accuracy']\n",
    ")"
   ]
  },
  {
   "cell_type": "markdown",
   "metadata": {
    "id": "7XI0j1Iu9hE2"
   },
   "source": [
    "# Model training"
   ]
  },
  {
   "cell_type": "code",
   "execution_count": 11,
   "metadata": {
    "colab": {
     "base_uri": "https://localhost:8080/"
    },
    "id": "WirBl-JE9hE3",
    "outputId": "71b30ca2-8294-4d9d-8aa2-800d90d399de",
    "scrolled": true
   },
   "outputs": [
    {
     "name": "stdout",
     "output_type": "stream",
     "text": [
      "Epoch 1/1000\n",
      "29/30 [============================>.] - ETA: 0s - loss: 1.6312 - accuracy: 0.2438\n",
      "Epoch 1: saving model to model/keypoint_classifier\\keypoint_classifier.hdf5\n",
      "30/30 [==============================] - 2s 18ms/step - loss: 1.6282 - accuracy: 0.2459 - val_loss: 1.4727 - val_accuracy: 0.3575\n",
      "Epoch 2/1000\n",
      "25/30 [========================>.....] - ETA: 0s - loss: 1.4648 - accuracy: 0.3244\n",
      "Epoch 2: saving model to model/keypoint_classifier\\keypoint_classifier.hdf5\n",
      "30/30 [==============================] - 0s 9ms/step - loss: 1.4589 - accuracy: 0.3251 - val_loss: 1.3789 - val_accuracy: 0.4128\n",
      "Epoch 3/1000\n",
      "30/30 [==============================] - ETA: 0s - loss: 1.3691 - accuracy: 0.3735\n",
      "Epoch 3: saving model to model/keypoint_classifier\\keypoint_classifier.hdf5\n",
      "30/30 [==============================] - 0s 12ms/step - loss: 1.3691 - accuracy: 0.3735 - val_loss: 1.2993 - val_accuracy: 0.4728\n",
      "Epoch 4/1000\n",
      "28/30 [===========================>..] - ETA: 0s - loss: 1.3222 - accuracy: 0.3876\n",
      "Epoch 4: saving model to model/keypoint_classifier\\keypoint_classifier.hdf5\n",
      "30/30 [==============================] - 0s 8ms/step - loss: 1.3207 - accuracy: 0.3906 - val_loss: 1.2262 - val_accuracy: 0.5643\n",
      "Epoch 5/1000\n",
      "25/30 [========================>.....] - ETA: 0s - loss: 1.2644 - accuracy: 0.4247\n",
      "Epoch 5: saving model to model/keypoint_classifier\\keypoint_classifier.hdf5\n",
      "30/30 [==============================] - 0s 8ms/step - loss: 1.2667 - accuracy: 0.4243 - val_loss: 1.1649 - val_accuracy: 0.5770\n",
      "Epoch 6/1000\n",
      "17/30 [================>.............] - ETA: 0s - loss: 1.2319 - accuracy: 0.4352\n",
      "Epoch 6: saving model to model/keypoint_classifier\\keypoint_classifier.hdf5\n",
      "30/30 [==============================] - 0s 7ms/step - loss: 1.2199 - accuracy: 0.4477 - val_loss: 1.1048 - val_accuracy: 0.6030\n",
      "Epoch 7/1000\n",
      "26/30 [=========================>....] - ETA: 0s - loss: 1.1863 - accuracy: 0.4745\n",
      "Epoch 7: saving model to model/keypoint_classifier\\keypoint_classifier.hdf5\n",
      "30/30 [==============================] - 0s 10ms/step - loss: 1.1818 - accuracy: 0.4770 - val_loss: 1.0513 - val_accuracy: 0.6069\n",
      "Epoch 8/1000\n",
      "24/30 [=======================>......] - ETA: 0s - loss: 1.1533 - accuracy: 0.5013\n",
      "Epoch 8: saving model to model/keypoint_classifier\\keypoint_classifier.hdf5\n",
      "30/30 [==============================] - 0s 11ms/step - loss: 1.1448 - accuracy: 0.5022 - val_loss: 0.9982 - val_accuracy: 0.6251\n",
      "Epoch 9/1000\n",
      "23/30 [======================>.......] - ETA: 0s - loss: 1.1130 - accuracy: 0.5160\n",
      "Epoch 9: saving model to model/keypoint_classifier\\keypoint_classifier.hdf5\n",
      "30/30 [==============================] - 0s 10ms/step - loss: 1.0999 - accuracy: 0.5215 - val_loss: 0.9437 - val_accuracy: 0.6409\n",
      "Epoch 10/1000\n",
      "25/30 [========================>.....] - ETA: 0s - loss: 1.0790 - accuracy: 0.5300\n",
      "Epoch 10: saving model to model/keypoint_classifier\\keypoint_classifier.hdf5\n",
      "30/30 [==============================] - 0s 8ms/step - loss: 1.0803 - accuracy: 0.5286 - val_loss: 0.8983 - val_accuracy: 0.6567\n",
      "Epoch 11/1000\n",
      "17/30 [================>.............] - ETA: 0s - loss: 1.0646 - accuracy: 0.5404\n",
      "Epoch 11: saving model to model/keypoint_classifier\\keypoint_classifier.hdf5\n",
      "30/30 [==============================] - 0s 8ms/step - loss: 1.0500 - accuracy: 0.5499 - val_loss: 0.8571 - val_accuracy: 0.6693\n",
      "Epoch 12/1000\n",
      "27/30 [==========================>...] - ETA: 0s - loss: 1.0310 - accuracy: 0.5370\n",
      "Epoch 12: saving model to model/keypoint_classifier\\keypoint_classifier.hdf5\n",
      "30/30 [==============================] - 0s 14ms/step - loss: 1.0250 - accuracy: 0.5401 - val_loss: 0.8083 - val_accuracy: 0.6859\n",
      "Epoch 13/1000\n",
      "22/30 [=====================>........] - ETA: 0s - loss: 0.9885 - accuracy: 0.5753\n",
      "Epoch 13: saving model to model/keypoint_classifier\\keypoint_classifier.hdf5\n",
      "30/30 [==============================] - 0s 10ms/step - loss: 0.9890 - accuracy: 0.5775 - val_loss: 0.7687 - val_accuracy: 0.7435\n",
      "Epoch 14/1000\n",
      "27/30 [==========================>...] - ETA: 0s - loss: 0.9758 - accuracy: 0.5796\n",
      "Epoch 14: saving model to model/keypoint_classifier\\keypoint_classifier.hdf5\n",
      "30/30 [==============================] - 0s 8ms/step - loss: 0.9721 - accuracy: 0.5830 - val_loss: 0.7365 - val_accuracy: 0.7743\n",
      "Epoch 15/1000\n",
      "27/30 [==========================>...] - ETA: 0s - loss: 0.9467 - accuracy: 0.5984\n",
      "Epoch 15: saving model to model/keypoint_classifier\\keypoint_classifier.hdf5\n",
      "30/30 [==============================] - 0s 9ms/step - loss: 0.9428 - accuracy: 0.5999 - val_loss: 0.6989 - val_accuracy: 0.7830\n",
      "Epoch 16/1000\n",
      "26/30 [=========================>....] - ETA: 0s - loss: 0.9020 - accuracy: 0.6277\n",
      "Epoch 16: saving model to model/keypoint_classifier\\keypoint_classifier.hdf5\n",
      "30/30 [==============================] - 0s 9ms/step - loss: 0.9047 - accuracy: 0.6257 - val_loss: 0.6565 - val_accuracy: 0.8153\n",
      "Epoch 17/1000\n",
      "27/30 [==========================>...] - ETA: 0s - loss: 0.9052 - accuracy: 0.6166\n",
      "Epoch 17: saving model to model/keypoint_classifier\\keypoint_classifier.hdf5\n",
      "30/30 [==============================] - 0s 12ms/step - loss: 0.9042 - accuracy: 0.6175 - val_loss: 0.6310 - val_accuracy: 0.8272\n",
      "Epoch 18/1000\n",
      "24/30 [=======================>......] - ETA: 0s - loss: 0.8840 - accuracy: 0.6283\n",
      "Epoch 18: saving model to model/keypoint_classifier\\keypoint_classifier.hdf5\n",
      "30/30 [==============================] - 0s 9ms/step - loss: 0.8781 - accuracy: 0.6307 - val_loss: 0.6073 - val_accuracy: 0.8635\n",
      "Epoch 19/1000\n",
      "20/30 [===================>..........] - ETA: 0s - loss: 0.8589 - accuracy: 0.6426\n",
      "Epoch 19: saving model to model/keypoint_classifier\\keypoint_classifier.hdf5\n",
      "30/30 [==============================] - 0s 11ms/step - loss: 0.8575 - accuracy: 0.6417 - val_loss: 0.5795 - val_accuracy: 0.8808\n",
      "Epoch 20/1000\n",
      "30/30 [==============================] - ETA: 0s - loss: 0.8189 - accuracy: 0.6689\n",
      "Epoch 20: saving model to model/keypoint_classifier\\keypoint_classifier.hdf5\n",
      "30/30 [==============================] - 0s 7ms/step - loss: 0.8189 - accuracy: 0.6689 - val_loss: 0.5545 - val_accuracy: 0.8816\n",
      "Epoch 21/1000\n",
      "21/30 [====================>.........] - ETA: 0s - loss: 0.8128 - accuracy: 0.6786\n",
      "Epoch 21: saving model to model/keypoint_classifier\\keypoint_classifier.hdf5\n",
      "30/30 [==============================] - 0s 12ms/step - loss: 0.8183 - accuracy: 0.6744 - val_loss: 0.5287 - val_accuracy: 0.8974\n",
      "Epoch 22/1000\n",
      "26/30 [=========================>....] - ETA: 0s - loss: 0.8066 - accuracy: 0.6785\n",
      "Epoch 22: saving model to model/keypoint_classifier\\keypoint_classifier.hdf5\n",
      "30/30 [==============================] - 0s 12ms/step - loss: 0.8078 - accuracy: 0.6791 - val_loss: 0.5096 - val_accuracy: 0.8942\n",
      "Epoch 23/1000\n",
      "15/30 [==============>...............] - ETA: 0s - loss: 0.7897 - accuracy: 0.6875\n",
      "Epoch 23: saving model to model/keypoint_classifier\\keypoint_classifier.hdf5\n",
      "30/30 [==============================] - 0s 7ms/step - loss: 0.7838 - accuracy: 0.6844 - val_loss: 0.4978 - val_accuracy: 0.9053\n",
      "Epoch 24/1000\n",
      "25/30 [========================>.....] - ETA: 0s - loss: 0.7968 - accuracy: 0.6837\n",
      "Epoch 24: saving model to model/keypoint_classifier\\keypoint_classifier.hdf5\n",
      "30/30 [==============================] - 0s 9ms/step - loss: 0.7904 - accuracy: 0.6870 - val_loss: 0.4774 - val_accuracy: 0.9045\n",
      "Epoch 25/1000\n",
      "22/30 [=====================>........] - ETA: 0s - loss: 0.7710 - accuracy: 0.6907\n",
      "Epoch 25: saving model to model/keypoint_classifier\\keypoint_classifier.hdf5\n",
      "30/30 [==============================] - 0s 11ms/step - loss: 0.7760 - accuracy: 0.6831 - val_loss: 0.4627 - val_accuracy: 0.9163\n",
      "Epoch 26/1000\n",
      "26/30 [=========================>....] - ETA: 0s - loss: 0.7651 - accuracy: 0.6956\n",
      "Epoch 26: saving model to model/keypoint_classifier\\keypoint_classifier.hdf5\n",
      "30/30 [==============================] - 1s 18ms/step - loss: 0.7549 - accuracy: 0.7010 - val_loss: 0.4506 - val_accuracy: 0.9227\n",
      "Epoch 27/1000\n",
      "29/30 [============================>.] - ETA: 0s - loss: 0.7379 - accuracy: 0.7072\n",
      "Epoch 27: saving model to model/keypoint_classifier\\keypoint_classifier.hdf5\n",
      "30/30 [==============================] - 0s 11ms/step - loss: 0.7381 - accuracy: 0.7060 - val_loss: 0.4329 - val_accuracy: 0.9400\n",
      "Epoch 28/1000\n"
     ]
    },
    {
     "name": "stdout",
     "output_type": "stream",
     "text": [
      "21/30 [====================>.........] - ETA: 0s - loss: 0.7549 - accuracy: 0.6983\n",
      "Epoch 28: saving model to model/keypoint_classifier\\keypoint_classifier.hdf5\n",
      "30/30 [==============================] - 0s 10ms/step - loss: 0.7633 - accuracy: 0.6960 - val_loss: 0.4255 - val_accuracy: 0.9392\n",
      "Epoch 29/1000\n",
      "21/30 [====================>.........] - ETA: 0s - loss: 0.7232 - accuracy: 0.7269\n",
      "Epoch 29: saving model to model/keypoint_classifier\\keypoint_classifier.hdf5\n",
      "30/30 [==============================] - 0s 12ms/step - loss: 0.7283 - accuracy: 0.7231 - val_loss: 0.4143 - val_accuracy: 0.9448\n",
      "Epoch 30/1000\n",
      "26/30 [=========================>....] - ETA: 0s - loss: 0.7487 - accuracy: 0.7094\n",
      "Epoch 30: saving model to model/keypoint_classifier\\keypoint_classifier.hdf5\n",
      "30/30 [==============================] - 0s 11ms/step - loss: 0.7390 - accuracy: 0.7123 - val_loss: 0.4129 - val_accuracy: 0.9416\n",
      "Epoch 31/1000\n",
      "27/30 [==========================>...] - ETA: 0s - loss: 0.7350 - accuracy: 0.7156\n",
      "Epoch 31: saving model to model/keypoint_classifier\\keypoint_classifier.hdf5\n",
      "30/30 [==============================] - 0s 8ms/step - loss: 0.7345 - accuracy: 0.7170 - val_loss: 0.4067 - val_accuracy: 0.9416\n",
      "Epoch 32/1000\n",
      "15/30 [==============>...............] - ETA: 0s - loss: 0.7022 - accuracy: 0.7208\n",
      "Epoch 32: saving model to model/keypoint_classifier\\keypoint_classifier.hdf5\n",
      "30/30 [==============================] - 0s 7ms/step - loss: 0.7040 - accuracy: 0.7218 - val_loss: 0.3997 - val_accuracy: 0.9479\n",
      "Epoch 33/1000\n",
      "28/30 [===========================>..] - ETA: 0s - loss: 0.7075 - accuracy: 0.7263\n",
      "Epoch 33: saving model to model/keypoint_classifier\\keypoint_classifier.hdf5\n",
      "30/30 [==============================] - 0s 12ms/step - loss: 0.7092 - accuracy: 0.7260 - val_loss: 0.3884 - val_accuracy: 0.9542\n",
      "Epoch 34/1000\n",
      "25/30 [========================>.....] - ETA: 0s - loss: 0.6959 - accuracy: 0.7384\n",
      "Epoch 34: saving model to model/keypoint_classifier\\keypoint_classifier.hdf5\n",
      "30/30 [==============================] - 0s 13ms/step - loss: 0.6907 - accuracy: 0.7391 - val_loss: 0.3765 - val_accuracy: 0.9487\n",
      "Epoch 35/1000\n",
      "21/30 [====================>.........] - ETA: 0s - loss: 0.6867 - accuracy: 0.7362\n",
      "Epoch 35: saving model to model/keypoint_classifier\\keypoint_classifier.hdf5\n",
      "30/30 [==============================] - 0s 8ms/step - loss: 0.6801 - accuracy: 0.7434 - val_loss: 0.3598 - val_accuracy: 0.9526\n",
      "Epoch 36/1000\n",
      "28/30 [===========================>..] - ETA: 0s - loss: 0.6809 - accuracy: 0.7355\n",
      "Epoch 36: saving model to model/keypoint_classifier\\keypoint_classifier.hdf5\n",
      "30/30 [==============================] - 0s 9ms/step - loss: 0.6846 - accuracy: 0.7344 - val_loss: 0.3570 - val_accuracy: 0.9503\n",
      "Epoch 37/1000\n",
      "28/30 [===========================>..] - ETA: 0s - loss: 0.6834 - accuracy: 0.7296\n",
      "Epoch 37: saving model to model/keypoint_classifier\\keypoint_classifier.hdf5\n",
      "30/30 [==============================] - 0s 9ms/step - loss: 0.6861 - accuracy: 0.7281 - val_loss: 0.3506 - val_accuracy: 0.9519\n",
      "Epoch 38/1000\n",
      "30/30 [==============================] - ETA: 0s - loss: 0.6614 - accuracy: 0.7407\n",
      "Epoch 38: saving model to model/keypoint_classifier\\keypoint_classifier.hdf5\n",
      "30/30 [==============================] - 0s 9ms/step - loss: 0.6614 - accuracy: 0.7407 - val_loss: 0.3494 - val_accuracy: 0.9503\n",
      "Epoch 39/1000\n",
      "25/30 [========================>.....] - ETA: 0s - loss: 0.6500 - accuracy: 0.7628\n",
      "Epoch 39: saving model to model/keypoint_classifier\\keypoint_classifier.hdf5\n",
      "30/30 [==============================] - 0s 13ms/step - loss: 0.6438 - accuracy: 0.7634 - val_loss: 0.3376 - val_accuracy: 0.9511\n",
      "Epoch 40/1000\n",
      "30/30 [==============================] - ETA: 0s - loss: 0.6543 - accuracy: 0.7515\n",
      "Epoch 40: saving model to model/keypoint_classifier\\keypoint_classifier.hdf5\n",
      "30/30 [==============================] - 0s 14ms/step - loss: 0.6543 - accuracy: 0.7515 - val_loss: 0.3344 - val_accuracy: 0.9542\n",
      "Epoch 41/1000\n",
      "22/30 [=====================>........] - ETA: 0s - loss: 0.6654 - accuracy: 0.7472\n",
      "Epoch 41: saving model to model/keypoint_classifier\\keypoint_classifier.hdf5\n",
      "30/30 [==============================] - 0s 9ms/step - loss: 0.6682 - accuracy: 0.7386 - val_loss: 0.3266 - val_accuracy: 0.9542\n",
      "Epoch 42/1000\n",
      "23/30 [======================>.......] - ETA: 0s - loss: 0.6417 - accuracy: 0.7514\n",
      "Epoch 42: saving model to model/keypoint_classifier\\keypoint_classifier.hdf5\n",
      "30/30 [==============================] - 0s 10ms/step - loss: 0.6439 - accuracy: 0.7499 - val_loss: 0.3242 - val_accuracy: 0.9550\n",
      "Epoch 43/1000\n",
      "24/30 [=======================>......] - ETA: 0s - loss: 0.6272 - accuracy: 0.7627\n",
      "Epoch 43: saving model to model/keypoint_classifier\\keypoint_classifier.hdf5\n",
      "30/30 [==============================] - 0s 12ms/step - loss: 0.6391 - accuracy: 0.7589 - val_loss: 0.3222 - val_accuracy: 0.9519\n",
      "Epoch 44/1000\n",
      "22/30 [=====================>........] - ETA: 0s - loss: 0.6229 - accuracy: 0.7617\n",
      "Epoch 44: saving model to model/keypoint_classifier\\keypoint_classifier.hdf5\n",
      "30/30 [==============================] - 0s 9ms/step - loss: 0.6328 - accuracy: 0.7555 - val_loss: 0.3118 - val_accuracy: 0.9550\n",
      "Epoch 45/1000\n",
      "16/30 [===============>..............] - ETA: 0s - loss: 0.6783 - accuracy: 0.7393\n",
      "Epoch 45: saving model to model/keypoint_classifier\\keypoint_classifier.hdf5\n",
      "30/30 [==============================] - 0s 7ms/step - loss: 0.6540 - accuracy: 0.7552 - val_loss: 0.3116 - val_accuracy: 0.9574\n",
      "Epoch 46/1000\n",
      "25/30 [========================>.....] - ETA: 0s - loss: 0.6414 - accuracy: 0.7487\n",
      "Epoch 46: saving model to model/keypoint_classifier\\keypoint_classifier.hdf5\n",
      "30/30 [==============================] - 0s 11ms/step - loss: 0.6312 - accuracy: 0.7541 - val_loss: 0.3135 - val_accuracy: 0.9511\n",
      "Epoch 47/1000\n",
      "21/30 [====================>.........] - ETA: 0s - loss: 0.6358 - accuracy: 0.7638\n",
      "Epoch 47: saving model to model/keypoint_classifier\\keypoint_classifier.hdf5\n",
      "30/30 [==============================] - 0s 15ms/step - loss: 0.6321 - accuracy: 0.7649 - val_loss: 0.3050 - val_accuracy: 0.9534\n",
      "Epoch 48/1000\n",
      "22/30 [=====================>........] - ETA: 0s - loss: 0.6348 - accuracy: 0.7525\n",
      "Epoch 48: saving model to model/keypoint_classifier\\keypoint_classifier.hdf5\n",
      "30/30 [==============================] - 0s 9ms/step - loss: 0.6257 - accuracy: 0.7626 - val_loss: 0.2935 - val_accuracy: 0.9597\n",
      "Epoch 49/1000\n",
      "30/30 [==============================] - ETA: 0s - loss: 0.6273 - accuracy: 0.7581\n",
      "Epoch 49: saving model to model/keypoint_classifier\\keypoint_classifier.hdf5\n",
      "30/30 [==============================] - 0s 8ms/step - loss: 0.6273 - accuracy: 0.7581 - val_loss: 0.2996 - val_accuracy: 0.9542\n",
      "Epoch 50/1000\n",
      "29/30 [============================>.] - ETA: 0s - loss: 0.6199 - accuracy: 0.7624\n",
      "Epoch 50: saving model to model/keypoint_classifier\\keypoint_classifier.hdf5\n",
      "30/30 [==============================] - 0s 8ms/step - loss: 0.6203 - accuracy: 0.7615 - val_loss: 0.2852 - val_accuracy: 0.9597\n",
      "Epoch 51/1000\n",
      "22/30 [=====================>........] - ETA: 0s - loss: 0.6456 - accuracy: 0.7567\n",
      "Epoch 51: saving model to model/keypoint_classifier\\keypoint_classifier.hdf5\n",
      "30/30 [==============================] - 0s 10ms/step - loss: 0.6533 - accuracy: 0.7499 - val_loss: 0.2928 - val_accuracy: 0.9566\n",
      "Epoch 52/1000\n",
      "29/30 [============================>.] - ETA: 0s - loss: 0.6179 - accuracy: 0.7643\n",
      "Epoch 52: saving model to model/keypoint_classifier\\keypoint_classifier.hdf5\n",
      "30/30 [==============================] - 0s 17ms/step - loss: 0.6158 - accuracy: 0.7649 - val_loss: 0.2967 - val_accuracy: 0.9558\n",
      "Epoch 53/1000\n",
      "28/30 [===========================>..] - ETA: 0s - loss: 0.6183 - accuracy: 0.7679\n",
      "Epoch 53: saving model to model/keypoint_classifier\\keypoint_classifier.hdf5\n",
      "30/30 [==============================] - 0s 11ms/step - loss: 0.6172 - accuracy: 0.7697 - val_loss: 0.2859 - val_accuracy: 0.9582\n",
      "Epoch 54/1000\n",
      "30/30 [==============================] - ETA: 0s - loss: 0.5960 - accuracy: 0.7749\n",
      "Epoch 54: saving model to model/keypoint_classifier\\keypoint_classifier.hdf5\n",
      "30/30 [==============================] - 0s 11ms/step - loss: 0.5960 - accuracy: 0.7749 - val_loss: 0.2915 - val_accuracy: 0.9455\n",
      "Epoch 55/1000\n"
     ]
    },
    {
     "name": "stdout",
     "output_type": "stream",
     "text": [
      "22/30 [=====================>........] - ETA: 0s - loss: 0.6207 - accuracy: 0.7642\n",
      "Epoch 55: saving model to model/keypoint_classifier\\keypoint_classifier.hdf5\n",
      "30/30 [==============================] - 0s 10ms/step - loss: 0.6187 - accuracy: 0.7649 - val_loss: 0.2811 - val_accuracy: 0.9597\n",
      "Epoch 56/1000\n",
      "23/30 [======================>.......] - ETA: 0s - loss: 0.6290 - accuracy: 0.7643\n",
      "Epoch 56: saving model to model/keypoint_classifier\\keypoint_classifier.hdf5\n",
      "30/30 [==============================] - 0s 10ms/step - loss: 0.6291 - accuracy: 0.7652 - val_loss: 0.2856 - val_accuracy: 0.9597\n",
      "Epoch 57/1000\n",
      "30/30 [==============================] - ETA: 0s - loss: 0.6104 - accuracy: 0.7710\n",
      "Epoch 57: saving model to model/keypoint_classifier\\keypoint_classifier.hdf5\n",
      "30/30 [==============================] - 0s 7ms/step - loss: 0.6104 - accuracy: 0.7710 - val_loss: 0.2794 - val_accuracy: 0.9590\n",
      "Epoch 58/1000\n",
      "22/30 [=====================>........] - ETA: 0s - loss: 0.6090 - accuracy: 0.7649\n",
      "Epoch 58: saving model to model/keypoint_classifier\\keypoint_classifier.hdf5\n",
      "30/30 [==============================] - 0s 8ms/step - loss: 0.6069 - accuracy: 0.7710 - val_loss: 0.2793 - val_accuracy: 0.9605\n",
      "Epoch 59/1000\n",
      "17/30 [================>.............] - ETA: 0s - loss: 0.6026 - accuracy: 0.7716\n",
      "Epoch 59: saving model to model/keypoint_classifier\\keypoint_classifier.hdf5\n",
      "30/30 [==============================] - 0s 7ms/step - loss: 0.6118 - accuracy: 0.7673 - val_loss: 0.2770 - val_accuracy: 0.9574\n",
      "Epoch 60/1000\n",
      "17/30 [================>.............] - ETA: 0s - loss: 0.6109 - accuracy: 0.7776\n",
      "Epoch 60: saving model to model/keypoint_classifier\\keypoint_classifier.hdf5\n",
      "30/30 [==============================] - 0s 7ms/step - loss: 0.5914 - accuracy: 0.7844 - val_loss: 0.2726 - val_accuracy: 0.9590\n",
      "Epoch 61/1000\n",
      "30/30 [==============================] - ETA: 0s - loss: 0.6125 - accuracy: 0.7663\n",
      "Epoch 61: saving model to model/keypoint_classifier\\keypoint_classifier.hdf5\n",
      "30/30 [==============================] - 0s 14ms/step - loss: 0.6125 - accuracy: 0.7663 - val_loss: 0.2774 - val_accuracy: 0.9566\n",
      "Epoch 62/1000\n",
      "27/30 [==========================>...] - ETA: 0s - loss: 0.5961 - accuracy: 0.7717\n",
      "Epoch 62: saving model to model/keypoint_classifier\\keypoint_classifier.hdf5\n",
      "30/30 [==============================] - 0s 11ms/step - loss: 0.5992 - accuracy: 0.7728 - val_loss: 0.2661 - val_accuracy: 0.9605\n",
      "Epoch 63/1000\n",
      "29/30 [============================>.] - ETA: 0s - loss: 0.5912 - accuracy: 0.7697\n",
      "Epoch 63: saving model to model/keypoint_classifier\\keypoint_classifier.hdf5\n",
      "30/30 [==============================] - 0s 8ms/step - loss: 0.5905 - accuracy: 0.7702 - val_loss: 0.2689 - val_accuracy: 0.9503\n",
      "Epoch 64/1000\n",
      "24/30 [=======================>......] - ETA: 0s - loss: 0.5674 - accuracy: 0.7861\n",
      "Epoch 64: saving model to model/keypoint_classifier\\keypoint_classifier.hdf5\n",
      "30/30 [==============================] - 0s 9ms/step - loss: 0.5715 - accuracy: 0.7834 - val_loss: 0.2639 - val_accuracy: 0.9613\n",
      "Epoch 65/1000\n",
      "23/30 [======================>.......] - ETA: 0s - loss: 0.5684 - accuracy: 0.7840\n",
      "Epoch 65: saving model to model/keypoint_classifier\\keypoint_classifier.hdf5\n",
      "30/30 [==============================] - 0s 13ms/step - loss: 0.5763 - accuracy: 0.7823 - val_loss: 0.2589 - val_accuracy: 0.9613\n",
      "Epoch 66/1000\n",
      "27/30 [==========================>...] - ETA: 0s - loss: 0.5674 - accuracy: 0.7879\n",
      "Epoch 66: saving model to model/keypoint_classifier\\keypoint_classifier.hdf5\n",
      "30/30 [==============================] - 0s 10ms/step - loss: 0.5662 - accuracy: 0.7907 - val_loss: 0.2548 - val_accuracy: 0.9582\n",
      "Epoch 67/1000\n",
      "17/30 [================>.............] - ETA: 0s - loss: 0.5510 - accuracy: 0.7973\n",
      "Epoch 67: saving model to model/keypoint_classifier\\keypoint_classifier.hdf5\n",
      "30/30 [==============================] - 0s 7ms/step - loss: 0.5657 - accuracy: 0.7894 - val_loss: 0.2531 - val_accuracy: 0.9582\n",
      "Epoch 68/1000\n",
      "26/30 [=========================>....] - ETA: 0s - loss: 0.5721 - accuracy: 0.7822\n",
      "Epoch 68: saving model to model/keypoint_classifier\\keypoint_classifier.hdf5\n",
      "30/30 [==============================] - 0s 10ms/step - loss: 0.5691 - accuracy: 0.7863 - val_loss: 0.2492 - val_accuracy: 0.9637\n",
      "Epoch 69/1000\n",
      "22/30 [=====================>........] - ETA: 0s - loss: 0.5642 - accuracy: 0.7898\n",
      "Epoch 69: saving model to model/keypoint_classifier\\keypoint_classifier.hdf5\n",
      "30/30 [==============================] - 0s 11ms/step - loss: 0.5692 - accuracy: 0.7873 - val_loss: 0.2570 - val_accuracy: 0.9574\n",
      "Epoch 70/1000\n",
      "29/30 [============================>.] - ETA: 0s - loss: 0.5586 - accuracy: 0.7936\n",
      "Epoch 70: saving model to model/keypoint_classifier\\keypoint_classifier.hdf5\n",
      "30/30 [==============================] - 0s 15ms/step - loss: 0.5643 - accuracy: 0.7918 - val_loss: 0.2548 - val_accuracy: 0.9590\n",
      "Epoch 71/1000\n",
      "29/30 [============================>.] - ETA: 0s - loss: 0.5960 - accuracy: 0.7694\n",
      "Epoch 71: saving model to model/keypoint_classifier\\keypoint_classifier.hdf5\n",
      "30/30 [==============================] - 0s 8ms/step - loss: 0.5928 - accuracy: 0.7713 - val_loss: 0.2608 - val_accuracy: 0.9574\n",
      "Epoch 72/1000\n",
      "28/30 [===========================>..] - ETA: 0s - loss: 0.5664 - accuracy: 0.7877\n",
      "Epoch 72: saving model to model/keypoint_classifier\\keypoint_classifier.hdf5\n",
      "30/30 [==============================] - 0s 8ms/step - loss: 0.5602 - accuracy: 0.7915 - val_loss: 0.2543 - val_accuracy: 0.9574\n",
      "Epoch 73/1000\n",
      "25/30 [========================>.....] - ETA: 0s - loss: 0.5844 - accuracy: 0.7803\n",
      "Epoch 73: saving model to model/keypoint_classifier\\keypoint_classifier.hdf5\n",
      "30/30 [==============================] - 0s 8ms/step - loss: 0.5901 - accuracy: 0.7770 - val_loss: 0.2518 - val_accuracy: 0.9621\n",
      "Epoch 74/1000\n",
      "20/30 [===================>..........] - ETA: 0s - loss: 0.5574 - accuracy: 0.7902\n",
      "Epoch 74: saving model to model/keypoint_classifier\\keypoint_classifier.hdf5\n",
      "30/30 [==============================] - 0s 11ms/step - loss: 0.5581 - accuracy: 0.7913 - val_loss: 0.2490 - val_accuracy: 0.9613\n",
      "Epoch 75/1000\n",
      "30/30 [==============================] - ETA: 0s - loss: 0.5713 - accuracy: 0.7855\n",
      "Epoch 75: saving model to model/keypoint_classifier\\keypoint_classifier.hdf5\n",
      "30/30 [==============================] - 0s 10ms/step - loss: 0.5713 - accuracy: 0.7855 - val_loss: 0.2508 - val_accuracy: 0.9597\n",
      "Epoch 76/1000\n",
      "16/30 [===============>..............] - ETA: 0s - loss: 0.5731 - accuracy: 0.7842\n",
      "Epoch 76: saving model to model/keypoint_classifier\\keypoint_classifier.hdf5\n",
      "30/30 [==============================] - 0s 10ms/step - loss: 0.5800 - accuracy: 0.7789 - val_loss: 0.2555 - val_accuracy: 0.9597\n",
      "Epoch 77/1000\n",
      "30/30 [==============================] - ETA: 0s - loss: 0.5564 - accuracy: 0.7873\n",
      "Epoch 77: saving model to model/keypoint_classifier\\keypoint_classifier.hdf5\n",
      "30/30 [==============================] - 0s 10ms/step - loss: 0.5564 - accuracy: 0.7873 - val_loss: 0.2465 - val_accuracy: 0.9605\n",
      "Epoch 78/1000\n",
      "16/30 [===============>..............] - ETA: 0s - loss: 0.5668 - accuracy: 0.7812\n",
      "Epoch 78: saving model to model/keypoint_classifier\\keypoint_classifier.hdf5\n",
      "30/30 [==============================] - 0s 7ms/step - loss: 0.5884 - accuracy: 0.7768 - val_loss: 0.2496 - val_accuracy: 0.9621\n",
      "Epoch 79/1000\n",
      "30/30 [==============================] - ETA: 0s - loss: 0.5748 - accuracy: 0.7836\n",
      "Epoch 79: saving model to model/keypoint_classifier\\keypoint_classifier.hdf5\n",
      "30/30 [==============================] - 0s 15ms/step - loss: 0.5748 - accuracy: 0.7836 - val_loss: 0.2455 - val_accuracy: 0.9637\n",
      "Epoch 80/1000\n",
      "30/30 [==============================] - ETA: 0s - loss: 0.5475 - accuracy: 0.7942\n",
      "Epoch 80: saving model to model/keypoint_classifier\\keypoint_classifier.hdf5\n",
      "30/30 [==============================] - 0s 15ms/step - loss: 0.5475 - accuracy: 0.7942 - val_loss: 0.2474 - val_accuracy: 0.9597\n",
      "Epoch 81/1000\n",
      "28/30 [===========================>..] - ETA: 0s - loss: 0.5722 - accuracy: 0.7818\n",
      "Epoch 81: saving model to model/keypoint_classifier\\keypoint_classifier.hdf5\n",
      "30/30 [==============================] - 0s 11ms/step - loss: 0.5704 - accuracy: 0.7813 - val_loss: 0.2471 - val_accuracy: 0.9629\n",
      "Epoch 82/1000\n"
     ]
    },
    {
     "name": "stdout",
     "output_type": "stream",
     "text": [
      "21/30 [====================>.........] - ETA: 0s - loss: 0.5159 - accuracy: 0.8114\n",
      "Epoch 82: saving model to model/keypoint_classifier\\keypoint_classifier.hdf5\n",
      "30/30 [==============================] - 0s 11ms/step - loss: 0.5307 - accuracy: 0.8068 - val_loss: 0.2315 - val_accuracy: 0.9669\n",
      "Epoch 83/1000\n",
      "28/30 [===========================>..] - ETA: 0s - loss: 0.5421 - accuracy: 0.8022\n",
      "Epoch 83: saving model to model/keypoint_classifier\\keypoint_classifier.hdf5\n",
      "30/30 [==============================] - 0s 14ms/step - loss: 0.5470 - accuracy: 0.8005 - val_loss: 0.2379 - val_accuracy: 0.9597\n",
      "Epoch 84/1000\n",
      "26/30 [=========================>....] - ETA: 0s - loss: 0.5625 - accuracy: 0.7915\n",
      "Epoch 84: saving model to model/keypoint_classifier\\keypoint_classifier.hdf5\n",
      "30/30 [==============================] - 0s 9ms/step - loss: 0.5623 - accuracy: 0.7902 - val_loss: 0.2353 - val_accuracy: 0.9645\n",
      "Epoch 85/1000\n",
      "22/30 [=====================>........] - ETA: 0s - loss: 0.5487 - accuracy: 0.7983\n",
      "Epoch 85: saving model to model/keypoint_classifier\\keypoint_classifier.hdf5\n",
      "30/30 [==============================] - 0s 8ms/step - loss: 0.5411 - accuracy: 0.8005 - val_loss: 0.2309 - val_accuracy: 0.9653\n",
      "Epoch 86/1000\n",
      "29/30 [============================>.] - ETA: 0s - loss: 0.5432 - accuracy: 0.7934\n",
      "Epoch 86: saving model to model/keypoint_classifier\\keypoint_classifier.hdf5\n",
      "30/30 [==============================] - 0s 8ms/step - loss: 0.5421 - accuracy: 0.7936 - val_loss: 0.2278 - val_accuracy: 0.9661\n",
      "Epoch 87/1000\n",
      "29/30 [============================>.] - ETA: 0s - loss: 0.5319 - accuracy: 0.8052\n",
      "Epoch 87: saving model to model/keypoint_classifier\\keypoint_classifier.hdf5\n",
      "30/30 [==============================] - 0s 16ms/step - loss: 0.5313 - accuracy: 0.8049 - val_loss: 0.2386 - val_accuracy: 0.9597\n",
      "Epoch 88/1000\n",
      "24/30 [=======================>......] - ETA: 0s - loss: 0.5507 - accuracy: 0.7923\n",
      "Epoch 88: saving model to model/keypoint_classifier\\keypoint_classifier.hdf5\n",
      "30/30 [==============================] - 0s 8ms/step - loss: 0.5575 - accuracy: 0.7910 - val_loss: 0.2357 - val_accuracy: 0.9669\n",
      "Epoch 89/1000\n",
      "27/30 [==========================>...] - ETA: 0s - loss: 0.5355 - accuracy: 0.7995\n",
      "Epoch 89: saving model to model/keypoint_classifier\\keypoint_classifier.hdf5\n",
      "30/30 [==============================] - 0s 8ms/step - loss: 0.5384 - accuracy: 0.7981 - val_loss: 0.2352 - val_accuracy: 0.9684\n",
      "Epoch 90/1000\n",
      "26/30 [=========================>....] - ETA: 0s - loss: 0.5463 - accuracy: 0.7951\n",
      "Epoch 90: saving model to model/keypoint_classifier\\keypoint_classifier.hdf5\n",
      "30/30 [==============================] - 0s 8ms/step - loss: 0.5534 - accuracy: 0.7923 - val_loss: 0.2277 - val_accuracy: 0.9669\n",
      "Epoch 91/1000\n",
      "24/30 [=======================>......] - ETA: 0s - loss: 0.5541 - accuracy: 0.8008\n",
      "Epoch 91: saving model to model/keypoint_classifier\\keypoint_classifier.hdf5\n",
      "30/30 [==============================] - 0s 10ms/step - loss: 0.5525 - accuracy: 0.7965 - val_loss: 0.2326 - val_accuracy: 0.9661\n",
      "Epoch 92/1000\n",
      "28/30 [===========================>..] - ETA: 0s - loss: 0.5424 - accuracy: 0.7949\n",
      "Epoch 92: saving model to model/keypoint_classifier\\keypoint_classifier.hdf5\n",
      "30/30 [==============================] - 0s 15ms/step - loss: 0.5421 - accuracy: 0.7971 - val_loss: 0.2356 - val_accuracy: 0.9629\n",
      "Epoch 93/1000\n",
      "26/30 [=========================>....] - ETA: 0s - loss: 0.5353 - accuracy: 0.7960\n",
      "Epoch 93: saving model to model/keypoint_classifier\\keypoint_classifier.hdf5\n",
      "30/30 [==============================] - 0s 8ms/step - loss: 0.5376 - accuracy: 0.7976 - val_loss: 0.2309 - val_accuracy: 0.9605\n",
      "Epoch 94/1000\n",
      "23/30 [======================>.......] - ETA: 0s - loss: 0.5480 - accuracy: 0.7850\n",
      "Epoch 94: saving model to model/keypoint_classifier\\keypoint_classifier.hdf5\n",
      "30/30 [==============================] - 0s 9ms/step - loss: 0.5371 - accuracy: 0.7934 - val_loss: 0.2263 - val_accuracy: 0.9669\n",
      "Epoch 95/1000\n",
      "29/30 [============================>.] - ETA: 0s - loss: 0.5466 - accuracy: 0.7980\n",
      "Epoch 95: saving model to model/keypoint_classifier\\keypoint_classifier.hdf5\n",
      "30/30 [==============================] - 0s 8ms/step - loss: 0.5446 - accuracy: 0.7981 - val_loss: 0.2265 - val_accuracy: 0.9661\n",
      "Epoch 96/1000\n",
      "26/30 [=========================>....] - ETA: 0s - loss: 0.5503 - accuracy: 0.7981\n",
      "Epoch 96: saving model to model/keypoint_classifier\\keypoint_classifier.hdf5\n",
      "30/30 [==============================] - 0s 10ms/step - loss: 0.5482 - accuracy: 0.7971 - val_loss: 0.2372 - val_accuracy: 0.9590\n",
      "Epoch 97/1000\n",
      "24/30 [=======================>......] - ETA: 0s - loss: 0.5362 - accuracy: 0.7936\n",
      "Epoch 97: saving model to model/keypoint_classifier\\keypoint_classifier.hdf5\n",
      "30/30 [==============================] - 0s 13ms/step - loss: 0.5298 - accuracy: 0.7963 - val_loss: 0.2267 - val_accuracy: 0.9613\n",
      "Epoch 98/1000\n",
      "21/30 [====================>.........] - ETA: 0s - loss: 0.5159 - accuracy: 0.8054\n",
      "Epoch 98: saving model to model/keypoint_classifier\\keypoint_classifier.hdf5\n",
      "30/30 [==============================] - 0s 11ms/step - loss: 0.5126 - accuracy: 0.8084 - val_loss: 0.2296 - val_accuracy: 0.9621\n",
      "Epoch 99/1000\n",
      "23/30 [======================>.......] - ETA: 0s - loss: 0.5475 - accuracy: 0.7948\n",
      "Epoch 99: saving model to model/keypoint_classifier\\keypoint_classifier.hdf5\n",
      "30/30 [==============================] - 0s 9ms/step - loss: 0.5417 - accuracy: 0.7976 - val_loss: 0.2376 - val_accuracy: 0.9574\n",
      "Epoch 100/1000\n",
      "25/30 [========================>.....] - ETA: 0s - loss: 0.5334 - accuracy: 0.8028\n",
      "Epoch 100: saving model to model/keypoint_classifier\\keypoint_classifier.hdf5\n",
      "30/30 [==============================] - 0s 8ms/step - loss: 0.5357 - accuracy: 0.8015 - val_loss: 0.2251 - val_accuracy: 0.9645\n",
      "Epoch 101/1000\n",
      "26/30 [=========================>....] - ETA: 0s - loss: 0.5621 - accuracy: 0.7897\n",
      "Epoch 101: saving model to model/keypoint_classifier\\keypoint_classifier.hdf5\n",
      "30/30 [==============================] - 0s 17ms/step - loss: 0.5548 - accuracy: 0.7934 - val_loss: 0.2317 - val_accuracy: 0.9629\n",
      "Epoch 102/1000\n",
      "29/30 [============================>.] - ETA: 0s - loss: 0.5287 - accuracy: 0.7998\n",
      "Epoch 102: saving model to model/keypoint_classifier\\keypoint_classifier.hdf5\n",
      "30/30 [==============================] - 0s 11ms/step - loss: 0.5321 - accuracy: 0.7997 - val_loss: 0.2214 - val_accuracy: 0.9653\n",
      "Epoch 103/1000\n",
      "25/30 [========================>.....] - ETA: 0s - loss: 0.5459 - accuracy: 0.7950\n",
      "Epoch 103: saving model to model/keypoint_classifier\\keypoint_classifier.hdf5\n",
      "30/30 [==============================] - 0s 11ms/step - loss: 0.5411 - accuracy: 0.7971 - val_loss: 0.2390 - val_accuracy: 0.9574\n",
      "Epoch 104/1000\n",
      "24/30 [=======================>......] - ETA: 0s - loss: 0.5325 - accuracy: 0.8014\n",
      "Epoch 104: saving model to model/keypoint_classifier\\keypoint_classifier.hdf5\n",
      "30/30 [==============================] - 0s 10ms/step - loss: 0.5407 - accuracy: 0.7957 - val_loss: 0.2275 - val_accuracy: 0.9692\n",
      "Epoch 105/1000\n",
      "27/30 [==========================>...] - ETA: 0s - loss: 0.5299 - accuracy: 0.8032\n",
      "Epoch 105: saving model to model/keypoint_classifier\\keypoint_classifier.hdf5\n",
      "30/30 [==============================] - 0s 14ms/step - loss: 0.5288 - accuracy: 0.8026 - val_loss: 0.2266 - val_accuracy: 0.9653\n",
      "Epoch 106/1000\n",
      "26/30 [=========================>....] - ETA: 0s - loss: 0.5313 - accuracy: 0.7978\n",
      "Epoch 106: saving model to model/keypoint_classifier\\keypoint_classifier.hdf5\n",
      "30/30 [==============================] - 0s 12ms/step - loss: 0.5320 - accuracy: 0.7976 - val_loss: 0.2222 - val_accuracy: 0.9613\n",
      "Epoch 107/1000\n",
      "28/30 [===========================>..] - ETA: 0s - loss: 0.5291 - accuracy: 0.7988\n",
      "Epoch 107: saving model to model/keypoint_classifier\\keypoint_classifier.hdf5\n",
      "30/30 [==============================] - 0s 8ms/step - loss: 0.5248 - accuracy: 0.7997 - val_loss: 0.2270 - val_accuracy: 0.9613\n",
      "Epoch 108/1000\n",
      "27/30 [==========================>...] - ETA: 0s - loss: 0.5336 - accuracy: 0.7975\n",
      "Epoch 108: saving model to model/keypoint_classifier\\keypoint_classifier.hdf5\n",
      "30/30 [==============================] - 0s 10ms/step - loss: 0.5341 - accuracy: 0.7960 - val_loss: 0.2233 - val_accuracy: 0.9669\n"
     ]
    },
    {
     "name": "stdout",
     "output_type": "stream",
     "text": [
      "Epoch 109/1000\n",
      "22/30 [=====================>........] - ETA: 0s - loss: 0.5326 - accuracy: 0.7990\n",
      "Epoch 109: saving model to model/keypoint_classifier\\keypoint_classifier.hdf5\n",
      "30/30 [==============================] - 0s 11ms/step - loss: 0.5267 - accuracy: 0.8028 - val_loss: 0.2232 - val_accuracy: 0.9676\n",
      "Epoch 110/1000\n",
      "25/30 [========================>.....] - ETA: 0s - loss: 0.5269 - accuracy: 0.8056\n",
      "Epoch 110: saving model to model/keypoint_classifier\\keypoint_classifier.hdf5\n",
      "30/30 [==============================] - 0s 9ms/step - loss: 0.5235 - accuracy: 0.8047 - val_loss: 0.2305 - val_accuracy: 0.9613\n",
      "Epoch 111/1000\n",
      "28/30 [===========================>..] - ETA: 0s - loss: 0.5153 - accuracy: 0.8080\n",
      "Epoch 111: saving model to model/keypoint_classifier\\keypoint_classifier.hdf5\n",
      "30/30 [==============================] - 0s 8ms/step - loss: 0.5158 - accuracy: 0.8073 - val_loss: 0.2212 - val_accuracy: 0.9645\n",
      "Epoch 112/1000\n",
      "21/30 [====================>.........] - ETA: 0s - loss: 0.5351 - accuracy: 0.7932\n",
      "Epoch 112: saving model to model/keypoint_classifier\\keypoint_classifier.hdf5\n",
      "30/30 [==============================] - 0s 9ms/step - loss: 0.5415 - accuracy: 0.7973 - val_loss: 0.2188 - val_accuracy: 0.9669\n",
      "Epoch 113/1000\n",
      "26/30 [=========================>....] - ETA: 0s - loss: 0.5357 - accuracy: 0.7996\n",
      "Epoch 113: saving model to model/keypoint_classifier\\keypoint_classifier.hdf5\n",
      "30/30 [==============================] - 0s 9ms/step - loss: 0.5302 - accuracy: 0.8007 - val_loss: 0.2201 - val_accuracy: 0.9669\n",
      "Epoch 114/1000\n",
      "29/30 [============================>.] - ETA: 0s - loss: 0.5089 - accuracy: 0.8122\n",
      "Epoch 114: saving model to model/keypoint_classifier\\keypoint_classifier.hdf5\n",
      "30/30 [==============================] - 0s 12ms/step - loss: 0.5122 - accuracy: 0.8102 - val_loss: 0.2188 - val_accuracy: 0.9653\n",
      "Epoch 115/1000\n",
      "29/30 [============================>.] - ETA: 0s - loss: 0.5188 - accuracy: 0.8006\n",
      "Epoch 115: saving model to model/keypoint_classifier\\keypoint_classifier.hdf5\n",
      "30/30 [==============================] - 0s 9ms/step - loss: 0.5169 - accuracy: 0.8010 - val_loss: 0.2225 - val_accuracy: 0.9605\n",
      "Epoch 116/1000\n",
      "24/30 [=======================>......] - ETA: 0s - loss: 0.5398 - accuracy: 0.8070\n",
      "Epoch 116: saving model to model/keypoint_classifier\\keypoint_classifier.hdf5\n",
      "30/30 [==============================] - 0s 8ms/step - loss: 0.5306 - accuracy: 0.8092 - val_loss: 0.2252 - val_accuracy: 0.9621\n",
      "Epoch 117/1000\n",
      "26/30 [=========================>....] - ETA: 0s - loss: 0.5321 - accuracy: 0.7951\n",
      "Epoch 117: saving model to model/keypoint_classifier\\keypoint_classifier.hdf5\n",
      "30/30 [==============================] - 0s 8ms/step - loss: 0.5361 - accuracy: 0.7918 - val_loss: 0.2343 - val_accuracy: 0.9574\n",
      "Epoch 118/1000\n",
      "30/30 [==============================] - ETA: 0s - loss: 0.5272 - accuracy: 0.8039\n",
      "Epoch 118: saving model to model/keypoint_classifier\\keypoint_classifier.hdf5\n",
      "30/30 [==============================] - 0s 8ms/step - loss: 0.5272 - accuracy: 0.8039 - val_loss: 0.2270 - val_accuracy: 0.9613\n",
      "Epoch 119/1000\n",
      "26/30 [=========================>....] - ETA: 0s - loss: 0.5099 - accuracy: 0.8146\n",
      "Epoch 119: saving model to model/keypoint_classifier\\keypoint_classifier.hdf5\n",
      "30/30 [==============================] - 0s 11ms/step - loss: 0.5071 - accuracy: 0.8139 - val_loss: 0.2256 - val_accuracy: 0.9597\n",
      "Epoch 120/1000\n",
      "15/30 [==============>...............] - ETA: 0s - loss: 0.5153 - accuracy: 0.8115\n",
      "Epoch 120: saving model to model/keypoint_classifier\\keypoint_classifier.hdf5\n",
      "30/30 [==============================] - 0s 7ms/step - loss: 0.5269 - accuracy: 0.7989 - val_loss: 0.2237 - val_accuracy: 0.9645\n",
      "Epoch 121/1000\n",
      "27/30 [==========================>...] - ETA: 0s - loss: 0.5066 - accuracy: 0.8050\n",
      "Epoch 121: saving model to model/keypoint_classifier\\keypoint_classifier.hdf5\n",
      "30/30 [==============================] - 0s 9ms/step - loss: 0.5162 - accuracy: 0.8018 - val_loss: 0.2205 - val_accuracy: 0.9637\n",
      "Epoch 122/1000\n",
      "24/30 [=======================>......] - ETA: 0s - loss: 0.5221 - accuracy: 0.8073\n",
      "Epoch 122: saving model to model/keypoint_classifier\\keypoint_classifier.hdf5\n",
      "30/30 [==============================] - 0s 9ms/step - loss: 0.5277 - accuracy: 0.8081 - val_loss: 0.2204 - val_accuracy: 0.9645\n",
      "Epoch 123/1000\n",
      "27/30 [==========================>...] - ETA: 0s - loss: 0.5131 - accuracy: 0.8073\n",
      "Epoch 123: saving model to model/keypoint_classifier\\keypoint_classifier.hdf5\n",
      "30/30 [==============================] - 0s 11ms/step - loss: 0.5134 - accuracy: 0.8049 - val_loss: 0.2238 - val_accuracy: 0.9629\n",
      "Epoch 124/1000\n",
      "28/30 [===========================>..] - ETA: 0s - loss: 0.5206 - accuracy: 0.8069\n",
      "Epoch 124: saving model to model/keypoint_classifier\\keypoint_classifier.hdf5\n",
      "30/30 [==============================] - 0s 10ms/step - loss: 0.5176 - accuracy: 0.8065 - val_loss: 0.2237 - val_accuracy: 0.9629\n",
      "Epoch 125/1000\n",
      "27/30 [==========================>...] - ETA: 0s - loss: 0.5251 - accuracy: 0.8012\n",
      "Epoch 125: saving model to model/keypoint_classifier\\keypoint_classifier.hdf5\n",
      "30/30 [==============================] - 0s 8ms/step - loss: 0.5244 - accuracy: 0.8028 - val_loss: 0.2214 - val_accuracy: 0.9613\n",
      "Epoch 126/1000\n",
      "26/30 [=========================>....] - ETA: 0s - loss: 0.5190 - accuracy: 0.8077\n",
      "Epoch 126: saving model to model/keypoint_classifier\\keypoint_classifier.hdf5\n",
      "30/30 [==============================] - 0s 8ms/step - loss: 0.5259 - accuracy: 0.8034 - val_loss: 0.2232 - val_accuracy: 0.9613\n",
      "Epoch 127/1000\n",
      "27/30 [==========================>...] - ETA: 0s - loss: 0.5101 - accuracy: 0.8111\n",
      "Epoch 127: saving model to model/keypoint_classifier\\keypoint_classifier.hdf5\n",
      "30/30 [==============================] - 0s 9ms/step - loss: 0.5104 - accuracy: 0.8126 - val_loss: 0.2173 - val_accuracy: 0.9653\n",
      "Epoch 128/1000\n",
      "27/30 [==========================>...] - ETA: 0s - loss: 0.5123 - accuracy: 0.8067\n",
      "Epoch 128: saving model to model/keypoint_classifier\\keypoint_classifier.hdf5\n",
      "30/30 [==============================] - 0s 14ms/step - loss: 0.5079 - accuracy: 0.8084 - val_loss: 0.2261 - val_accuracy: 0.9605\n",
      "Epoch 129/1000\n",
      "30/30 [==============================] - ETA: 0s - loss: 0.5219 - accuracy: 0.8055\n",
      "Epoch 129: saving model to model/keypoint_classifier\\keypoint_classifier.hdf5\n",
      "30/30 [==============================] - 0s 11ms/step - loss: 0.5219 - accuracy: 0.8055 - val_loss: 0.2189 - val_accuracy: 0.9645\n",
      "Epoch 130/1000\n",
      "22/30 [=====================>........] - ETA: 0s - loss: 0.5139 - accuracy: 0.8107\n",
      "Epoch 130: saving model to model/keypoint_classifier\\keypoint_classifier.hdf5\n",
      "30/30 [==============================] - 0s 11ms/step - loss: 0.5214 - accuracy: 0.8068 - val_loss: 0.2173 - val_accuracy: 0.9676\n",
      "Epoch 131/1000\n",
      "19/30 [==================>...........] - ETA: 0s - loss: 0.5325 - accuracy: 0.8030\n",
      "Epoch 131: saving model to model/keypoint_classifier\\keypoint_classifier.hdf5\n",
      "30/30 [==============================] - 0s 10ms/step - loss: 0.5274 - accuracy: 0.8081 - val_loss: 0.2263 - val_accuracy: 0.9629\n",
      "Epoch 132/1000\n",
      "28/30 [===========================>..] - ETA: 0s - loss: 0.5135 - accuracy: 0.7999\n",
      "Epoch 132: saving model to model/keypoint_classifier\\keypoint_classifier.hdf5\n",
      "30/30 [==============================] - 0s 13ms/step - loss: 0.5115 - accuracy: 0.8010 - val_loss: 0.2141 - val_accuracy: 0.9653\n",
      "Epoch 133/1000\n",
      "19/30 [==================>...........] - ETA: 0s - loss: 0.5167 - accuracy: 0.8055\n",
      "Epoch 133: saving model to model/keypoint_classifier\\keypoint_classifier.hdf5\n",
      "30/30 [==============================] - 0s 9ms/step - loss: 0.5043 - accuracy: 0.8063 - val_loss: 0.2208 - val_accuracy: 0.9637\n",
      "Epoch 134/1000\n",
      "25/30 [========================>.....] - ETA: 0s - loss: 0.5128 - accuracy: 0.8037\n",
      "Epoch 134: saving model to model/keypoint_classifier\\keypoint_classifier.hdf5\n",
      "30/30 [==============================] - 0s 12ms/step - loss: 0.5114 - accuracy: 0.8060 - val_loss: 0.2167 - val_accuracy: 0.9661\n",
      "Epoch 135/1000\n",
      "16/30 [===============>..............] - ETA: 0s - loss: 0.4966 - accuracy: 0.8193\n",
      "Epoch 135: saving model to model/keypoint_classifier\\keypoint_classifier.hdf5\n",
      "30/30 [==============================] - 0s 8ms/step - loss: 0.5014 - accuracy: 0.8118 - val_loss: 0.2118 - val_accuracy: 0.9621\n"
     ]
    },
    {
     "name": "stdout",
     "output_type": "stream",
     "text": [
      "Epoch 136/1000\n",
      "26/30 [=========================>....] - ETA: 0s - loss: 0.4987 - accuracy: 0.8188\n",
      "Epoch 136: saving model to model/keypoint_classifier\\keypoint_classifier.hdf5\n",
      "30/30 [==============================] - 0s 9ms/step - loss: 0.4969 - accuracy: 0.8173 - val_loss: 0.2182 - val_accuracy: 0.9582\n",
      "Epoch 137/1000\n",
      "28/30 [===========================>..] - ETA: 0s - loss: 0.5090 - accuracy: 0.8069\n",
      "Epoch 137: saving model to model/keypoint_classifier\\keypoint_classifier.hdf5\n",
      "30/30 [==============================] - 0s 13ms/step - loss: 0.5110 - accuracy: 0.8063 - val_loss: 0.2250 - val_accuracy: 0.9574\n",
      "Epoch 138/1000\n",
      "26/30 [=========================>....] - ETA: 0s - loss: 0.5090 - accuracy: 0.8089\n",
      "Epoch 138: saving model to model/keypoint_classifier\\keypoint_classifier.hdf5\n",
      "30/30 [==============================] - 0s 10ms/step - loss: 0.5135 - accuracy: 0.8068 - val_loss: 0.2160 - val_accuracy: 0.9637\n",
      "Epoch 139/1000\n",
      "30/30 [==============================] - ETA: 0s - loss: 0.5028 - accuracy: 0.8155\n",
      "Epoch 139: saving model to model/keypoint_classifier\\keypoint_classifier.hdf5\n",
      "30/30 [==============================] - 0s 10ms/step - loss: 0.5028 - accuracy: 0.8155 - val_loss: 0.2186 - val_accuracy: 0.9613\n",
      "Epoch 140/1000\n",
      "27/30 [==========================>...] - ETA: 0s - loss: 0.5034 - accuracy: 0.8168\n",
      "Epoch 140: saving model to model/keypoint_classifier\\keypoint_classifier.hdf5\n",
      "30/30 [==============================] - 0s 12ms/step - loss: 0.5062 - accuracy: 0.8134 - val_loss: 0.2115 - val_accuracy: 0.9669\n",
      "Epoch 141/1000\n",
      "26/30 [=========================>....] - ETA: 0s - loss: 0.5077 - accuracy: 0.8086\n",
      "Epoch 141: saving model to model/keypoint_classifier\\keypoint_classifier.hdf5\n",
      "30/30 [==============================] - 0s 13ms/step - loss: 0.5008 - accuracy: 0.8105 - val_loss: 0.2098 - val_accuracy: 0.9669\n",
      "Epoch 142/1000\n",
      "25/30 [========================>.....] - ETA: 0s - loss: 0.5264 - accuracy: 0.8041\n",
      "Epoch 142: saving model to model/keypoint_classifier\\keypoint_classifier.hdf5\n",
      "30/30 [==============================] - 0s 9ms/step - loss: 0.5135 - accuracy: 0.8094 - val_loss: 0.2173 - val_accuracy: 0.9613\n",
      "Epoch 143/1000\n",
      "28/30 [===========================>..] - ETA: 0s - loss: 0.5144 - accuracy: 0.8080\n",
      "Epoch 143: saving model to model/keypoint_classifier\\keypoint_classifier.hdf5\n",
      "30/30 [==============================] - 0s 12ms/step - loss: 0.5132 - accuracy: 0.8094 - val_loss: 0.2119 - val_accuracy: 0.9653\n",
      "Epoch 144/1000\n",
      "28/30 [===========================>..] - ETA: 0s - loss: 0.5187 - accuracy: 0.8086\n",
      "Epoch 144: saving model to model/keypoint_classifier\\keypoint_classifier.hdf5\n",
      "30/30 [==============================] - 0s 13ms/step - loss: 0.5188 - accuracy: 0.8094 - val_loss: 0.2140 - val_accuracy: 0.9637\n",
      "Epoch 145/1000\n",
      "27/30 [==========================>...] - ETA: 0s - loss: 0.4916 - accuracy: 0.8218\n",
      "Epoch 145: saving model to model/keypoint_classifier\\keypoint_classifier.hdf5\n",
      "30/30 [==============================] - 0s 14ms/step - loss: 0.4885 - accuracy: 0.8221 - val_loss: 0.2120 - val_accuracy: 0.9621\n",
      "Epoch 146/1000\n",
      "30/30 [==============================] - ETA: 0s - loss: 0.4924 - accuracy: 0.8071\n",
      "Epoch 146: saving model to model/keypoint_classifier\\keypoint_classifier.hdf5\n",
      "30/30 [==============================] - 0s 13ms/step - loss: 0.4924 - accuracy: 0.8071 - val_loss: 0.2088 - val_accuracy: 0.9645\n",
      "Epoch 147/1000\n",
      "24/30 [=======================>......] - ETA: 0s - loss: 0.5046 - accuracy: 0.8063\n",
      "Epoch 147: saving model to model/keypoint_classifier\\keypoint_classifier.hdf5\n",
      "30/30 [==============================] - 0s 12ms/step - loss: 0.4953 - accuracy: 0.8118 - val_loss: 0.2095 - val_accuracy: 0.9645\n",
      "Epoch 148/1000\n",
      "25/30 [========================>.....] - ETA: 0s - loss: 0.4947 - accuracy: 0.8200\n",
      "Epoch 148: saving model to model/keypoint_classifier\\keypoint_classifier.hdf5\n",
      "30/30 [==============================] - 0s 15ms/step - loss: 0.4954 - accuracy: 0.8215 - val_loss: 0.2161 - val_accuracy: 0.9605\n",
      "Epoch 149/1000\n",
      "30/30 [==============================] - ETA: 0s - loss: 0.5060 - accuracy: 0.8099\n",
      "Epoch 149: saving model to model/keypoint_classifier\\keypoint_classifier.hdf5\n",
      "30/30 [==============================] - 0s 12ms/step - loss: 0.5060 - accuracy: 0.8099 - val_loss: 0.2094 - val_accuracy: 0.9645\n",
      "Epoch 150/1000\n",
      "29/30 [============================>.] - ETA: 0s - loss: 0.4831 - accuracy: 0.8190\n",
      "Epoch 150: saving model to model/keypoint_classifier\\keypoint_classifier.hdf5\n",
      "30/30 [==============================] - 0s 11ms/step - loss: 0.4842 - accuracy: 0.8181 - val_loss: 0.2134 - val_accuracy: 0.9605\n",
      "Epoch 151/1000\n",
      "23/30 [======================>.......] - ETA: 0s - loss: 0.4960 - accuracy: 0.8094\n",
      "Epoch 151: saving model to model/keypoint_classifier\\keypoint_classifier.hdf5\n",
      "30/30 [==============================] - 0s 10ms/step - loss: 0.5108 - accuracy: 0.8052 - val_loss: 0.2085 - val_accuracy: 0.9621\n",
      "Epoch 152/1000\n",
      "26/30 [=========================>....] - ETA: 0s - loss: 0.4998 - accuracy: 0.8119\n",
      "Epoch 152: saving model to model/keypoint_classifier\\keypoint_classifier.hdf5\n",
      "30/30 [==============================] - 0s 14ms/step - loss: 0.4991 - accuracy: 0.8131 - val_loss: 0.2191 - val_accuracy: 0.9590\n",
      "Epoch 153/1000\n",
      "18/30 [=================>............] - ETA: 0s - loss: 0.4761 - accuracy: 0.8181\n",
      "Epoch 153: saving model to model/keypoint_classifier\\keypoint_classifier.hdf5\n",
      "30/30 [==============================] - 0s 10ms/step - loss: 0.4882 - accuracy: 0.8160 - val_loss: 0.2131 - val_accuracy: 0.9637\n",
      "Epoch 154/1000\n",
      "29/30 [============================>.] - ETA: 0s - loss: 0.5033 - accuracy: 0.8109\n",
      "Epoch 154: saving model to model/keypoint_classifier\\keypoint_classifier.hdf5\n",
      "30/30 [==============================] - 0s 12ms/step - loss: 0.5032 - accuracy: 0.8107 - val_loss: 0.2118 - val_accuracy: 0.9676\n",
      "Epoch 155/1000\n",
      "22/30 [=====================>........] - ETA: 0s - loss: 0.5217 - accuracy: 0.7990\n",
      "Epoch 155: saving model to model/keypoint_classifier\\keypoint_classifier.hdf5\n",
      "30/30 [==============================] - 0s 10ms/step - loss: 0.5135 - accuracy: 0.8047 - val_loss: 0.2150 - val_accuracy: 0.9621\n",
      "Epoch 156/1000\n",
      "27/30 [==========================>...] - ETA: 0s - loss: 0.5020 - accuracy: 0.8102\n",
      "Epoch 156: saving model to model/keypoint_classifier\\keypoint_classifier.hdf5\n",
      "30/30 [==============================] - 0s 15ms/step - loss: 0.4993 - accuracy: 0.8105 - val_loss: 0.2201 - val_accuracy: 0.9597\n",
      "Epoch 157/1000\n",
      "23/30 [======================>.......] - ETA: 0s - loss: 0.4679 - accuracy: 0.8268\n",
      "Epoch 157: saving model to model/keypoint_classifier\\keypoint_classifier.hdf5\n",
      "30/30 [==============================] - 0s 11ms/step - loss: 0.4729 - accuracy: 0.8234 - val_loss: 0.2079 - val_accuracy: 0.9653\n",
      "Epoch 158/1000\n",
      "29/30 [============================>.] - ETA: 0s - loss: 0.4970 - accuracy: 0.8031\n",
      "Epoch 158: saving model to model/keypoint_classifier\\keypoint_classifier.hdf5\n",
      "30/30 [==============================] - 0s 12ms/step - loss: 0.4988 - accuracy: 0.8034 - val_loss: 0.2101 - val_accuracy: 0.9613\n",
      "Epoch 159/1000\n",
      "28/30 [===========================>..] - ETA: 0s - loss: 0.4879 - accuracy: 0.8147\n",
      "Epoch 159: saving model to model/keypoint_classifier\\keypoint_classifier.hdf5\n",
      "30/30 [==============================] - 0s 13ms/step - loss: 0.4859 - accuracy: 0.8142 - val_loss: 0.2112 - val_accuracy: 0.9637\n",
      "Epoch 160/1000\n",
      "28/30 [===========================>..] - ETA: 0s - loss: 0.5039 - accuracy: 0.8108\n",
      "Epoch 160: saving model to model/keypoint_classifier\\keypoint_classifier.hdf5\n",
      "30/30 [==============================] - 0s 14ms/step - loss: 0.5063 - accuracy: 0.8089 - val_loss: 0.2180 - val_accuracy: 0.9574\n",
      "Epoch 161/1000\n",
      "22/30 [=====================>........] - ETA: 0s - loss: 0.4926 - accuracy: 0.8132\n",
      "Epoch 161: saving model to model/keypoint_classifier\\keypoint_classifier.hdf5\n",
      "30/30 [==============================] - 0s 11ms/step - loss: 0.4892 - accuracy: 0.8118 - val_loss: 0.2120 - val_accuracy: 0.9676\n",
      "Epoch 162/1000\n",
      "25/30 [========================>.....] - ETA: 0s - loss: 0.4923 - accuracy: 0.8188\n",
      "Epoch 162: saving model to model/keypoint_classifier\\keypoint_classifier.hdf5\n",
      "30/30 [==============================] - 0s 9ms/step - loss: 0.4844 - accuracy: 0.8213 - val_loss: 0.2168 - val_accuracy: 0.9669\n"
     ]
    },
    {
     "name": "stdout",
     "output_type": "stream",
     "text": [
      "Epoch 163/1000\n",
      "24/30 [=======================>......] - ETA: 0s - loss: 0.4626 - accuracy: 0.8285\n",
      "Epoch 163: saving model to model/keypoint_classifier\\keypoint_classifier.hdf5\n",
      "30/30 [==============================] - 0s 10ms/step - loss: 0.4712 - accuracy: 0.8236 - val_loss: 0.2209 - val_accuracy: 0.9590\n",
      "Epoch 164/1000\n",
      "27/30 [==========================>...] - ETA: 0s - loss: 0.5025 - accuracy: 0.8105\n",
      "Epoch 164: saving model to model/keypoint_classifier\\keypoint_classifier.hdf5\n",
      "30/30 [==============================] - 0s 16ms/step - loss: 0.5002 - accuracy: 0.8121 - val_loss: 0.2141 - val_accuracy: 0.9613\n",
      "Epoch 165/1000\n",
      "28/30 [===========================>..] - ETA: 0s - loss: 0.4767 - accuracy: 0.8245\n",
      "Epoch 165: saving model to model/keypoint_classifier\\keypoint_classifier.hdf5\n",
      "30/30 [==============================] - 0s 11ms/step - loss: 0.4752 - accuracy: 0.8250 - val_loss: 0.2045 - val_accuracy: 0.9629\n",
      "Epoch 166/1000\n",
      "25/30 [========================>.....] - ETA: 0s - loss: 0.4848 - accuracy: 0.8213\n",
      "Epoch 166: saving model to model/keypoint_classifier\\keypoint_classifier.hdf5\n",
      "30/30 [==============================] - 0s 10ms/step - loss: 0.4922 - accuracy: 0.8168 - val_loss: 0.2200 - val_accuracy: 0.9582\n",
      "Epoch 167/1000\n",
      "23/30 [======================>.......] - ETA: 0s - loss: 0.4839 - accuracy: 0.8149\n",
      "Epoch 167: saving model to model/keypoint_classifier\\keypoint_classifier.hdf5\n",
      "30/30 [==============================] - 0s 9ms/step - loss: 0.4760 - accuracy: 0.8202 - val_loss: 0.2221 - val_accuracy: 0.9590\n",
      "Epoch 168/1000\n",
      "30/30 [==============================] - ETA: 0s - loss: 0.4788 - accuracy: 0.8223\n",
      "Epoch 168: saving model to model/keypoint_classifier\\keypoint_classifier.hdf5\n",
      "30/30 [==============================] - 0s 16ms/step - loss: 0.4788 - accuracy: 0.8223 - val_loss: 0.2106 - val_accuracy: 0.9621\n",
      "Epoch 169/1000\n",
      "26/30 [=========================>....] - ETA: 0s - loss: 0.5075 - accuracy: 0.8056\n",
      "Epoch 169: saving model to model/keypoint_classifier\\keypoint_classifier.hdf5\n",
      "30/30 [==============================] - 0s 11ms/step - loss: 0.5047 - accuracy: 0.8044 - val_loss: 0.2108 - val_accuracy: 0.9605\n",
      "Epoch 170/1000\n",
      "28/30 [===========================>..] - ETA: 0s - loss: 0.5041 - accuracy: 0.8083\n",
      "Epoch 170: saving model to model/keypoint_classifier\\keypoint_classifier.hdf5\n",
      "30/30 [==============================] - 0s 9ms/step - loss: 0.4997 - accuracy: 0.8099 - val_loss: 0.2181 - val_accuracy: 0.9653\n",
      "Epoch 171/1000\n",
      "20/30 [===================>..........] - ETA: 0s - loss: 0.5010 - accuracy: 0.8145\n",
      "Epoch 171: saving model to model/keypoint_classifier\\keypoint_classifier.hdf5\n",
      "30/30 [==============================] - 0s 10ms/step - loss: 0.4937 - accuracy: 0.8165 - val_loss: 0.2111 - val_accuracy: 0.9597\n",
      "Epoch 172/1000\n",
      "27/30 [==========================>...] - ETA: 0s - loss: 0.4891 - accuracy: 0.8131\n",
      "Epoch 172: saving model to model/keypoint_classifier\\keypoint_classifier.hdf5\n",
      "30/30 [==============================] - 0s 15ms/step - loss: 0.4817 - accuracy: 0.8157 - val_loss: 0.2216 - val_accuracy: 0.9574\n",
      "Epoch 173/1000\n",
      "24/30 [=======================>......] - ETA: 0s - loss: 0.4680 - accuracy: 0.8262\n",
      "Epoch 173: saving model to model/keypoint_classifier\\keypoint_classifier.hdf5\n",
      "30/30 [==============================] - 0s 10ms/step - loss: 0.4719 - accuracy: 0.8247 - val_loss: 0.2065 - val_accuracy: 0.9629\n",
      "Epoch 174/1000\n",
      "21/30 [====================>.........] - ETA: 0s - loss: 0.4722 - accuracy: 0.8248\n",
      "Epoch 174: saving model to model/keypoint_classifier\\keypoint_classifier.hdf5\n",
      "30/30 [==============================] - 0s 11ms/step - loss: 0.4821 - accuracy: 0.8223 - val_loss: 0.2199 - val_accuracy: 0.9558\n",
      "Epoch 175/1000\n",
      "21/30 [====================>.........] - ETA: 0s - loss: 0.4952 - accuracy: 0.8147\n",
      "Epoch 175: saving model to model/keypoint_classifier\\keypoint_classifier.hdf5\n",
      "30/30 [==============================] - 0s 11ms/step - loss: 0.4812 - accuracy: 0.8215 - val_loss: 0.2088 - val_accuracy: 0.9613\n",
      "Epoch 176/1000\n",
      "26/30 [=========================>....] - ETA: 0s - loss: 0.4944 - accuracy: 0.8110\n",
      "Epoch 176: saving model to model/keypoint_classifier\\keypoint_classifier.hdf5\n",
      "30/30 [==============================] - 0s 15ms/step - loss: 0.4920 - accuracy: 0.8110 - val_loss: 0.2112 - val_accuracy: 0.9621\n",
      "Epoch 177/1000\n",
      "24/30 [=======================>......] - ETA: 0s - loss: 0.4876 - accuracy: 0.8180\n",
      "Epoch 177: saving model to model/keypoint_classifier\\keypoint_classifier.hdf5\n",
      "30/30 [==============================] - 0s 10ms/step - loss: 0.4884 - accuracy: 0.8192 - val_loss: 0.2166 - val_accuracy: 0.9582\n",
      "Epoch 178/1000\n",
      "29/30 [============================>.] - ETA: 0s - loss: 0.4773 - accuracy: 0.8147\n",
      "Epoch 178: saving model to model/keypoint_classifier\\keypoint_classifier.hdf5\n",
      "30/30 [==============================] - 0s 11ms/step - loss: 0.4786 - accuracy: 0.8134 - val_loss: 0.2128 - val_accuracy: 0.9590\n",
      "Epoch 179/1000\n",
      "25/30 [========================>.....] - ETA: 0s - loss: 0.4550 - accuracy: 0.8284\n",
      "Epoch 179: saving model to model/keypoint_classifier\\keypoint_classifier.hdf5\n",
      "30/30 [==============================] - 0s 10ms/step - loss: 0.4605 - accuracy: 0.8271 - val_loss: 0.2221 - val_accuracy: 0.9574\n",
      "Epoch 180/1000\n",
      "24/30 [=======================>......] - ETA: 0s - loss: 0.4909 - accuracy: 0.8177\n",
      "Epoch 180: saving model to model/keypoint_classifier\\keypoint_classifier.hdf5\n",
      "30/30 [==============================] - 0s 16ms/step - loss: 0.4856 - accuracy: 0.8200 - val_loss: 0.2192 - val_accuracy: 0.9566\n",
      "Epoch 181/1000\n",
      "25/30 [========================>.....] - ETA: 0s - loss: 0.4836 - accuracy: 0.8203\n",
      "Epoch 181: saving model to model/keypoint_classifier\\keypoint_classifier.hdf5\n",
      "30/30 [==============================] - 0s 12ms/step - loss: 0.4806 - accuracy: 0.8205 - val_loss: 0.2088 - val_accuracy: 0.9637\n",
      "Epoch 182/1000\n",
      "22/30 [=====================>........] - ETA: 0s - loss: 0.4814 - accuracy: 0.8171\n",
      "Epoch 182: saving model to model/keypoint_classifier\\keypoint_classifier.hdf5\n",
      "30/30 [==============================] - 0s 10ms/step - loss: 0.4797 - accuracy: 0.8173 - val_loss: 0.2119 - val_accuracy: 0.9605\n",
      "Epoch 183/1000\n",
      "22/30 [=====================>........] - ETA: 0s - loss: 0.4850 - accuracy: 0.8182\n",
      "Epoch 183: saving model to model/keypoint_classifier\\keypoint_classifier.hdf5\n",
      "30/30 [==============================] - 0s 11ms/step - loss: 0.4740 - accuracy: 0.8231 - val_loss: 0.2230 - val_accuracy: 0.9550\n",
      "Epoch 184/1000\n",
      "22/30 [=====================>........] - ETA: 0s - loss: 0.4617 - accuracy: 0.8242\n",
      "Epoch 184: saving model to model/keypoint_classifier\\keypoint_classifier.hdf5\n",
      "30/30 [==============================] - 0s 15ms/step - loss: 0.4567 - accuracy: 0.8250 - val_loss: 0.2124 - val_accuracy: 0.9597\n",
      "Epoch 185/1000\n",
      "22/30 [=====================>........] - ETA: 0s - loss: 0.4898 - accuracy: 0.8178\n",
      "Epoch 185: saving model to model/keypoint_classifier\\keypoint_classifier.hdf5\n",
      "30/30 [==============================] - 0s 10ms/step - loss: 0.4887 - accuracy: 0.8178 - val_loss: 0.2086 - val_accuracy: 0.9605\n",
      "Epoch 185: early stopping\n"
     ]
    },
    {
     "data": {
      "text/plain": [
       "<keras.callbacks.History at 0x2a7635f3188>"
      ]
     },
     "execution_count": 11,
     "metadata": {},
     "output_type": "execute_result"
    }
   ],
   "source": [
    "model.fit(\n",
    "    X_train,\n",
    "    y_train,\n",
    "    epochs=1000,\n",
    "    batch_size=128,\n",
    "    validation_data=(X_test, y_test),\n",
    "    callbacks=[cp_callback, es_callback]\n",
    ")"
   ]
  },
  {
   "cell_type": "code",
   "execution_count": 12,
   "metadata": {
    "colab": {
     "base_uri": "https://localhost:8080/"
    },
    "id": "pxvb2Y299hE3",
    "outputId": "59eb3185-2e37-4b9e-bc9d-ab1b8ac29b7f"
   },
   "outputs": [
    {
     "name": "stdout",
     "output_type": "stream",
     "text": [
      "10/10 [==============================] - 0s 4ms/step - loss: 0.2086 - accuracy: 0.9605\n"
     ]
    }
   ],
   "source": [
    "# Model evaluation\n",
    "val_loss, val_acc = model.evaluate(X_test, y_test, batch_size=128)"
   ]
  },
  {
   "cell_type": "code",
   "execution_count": 13,
   "metadata": {
    "id": "RBkmDeUW9hE4"
   },
   "outputs": [],
   "source": [
    "# Loading the saved model\n",
    "model = tf.keras.models.load_model(model_save_path)"
   ]
  },
  {
   "cell_type": "code",
   "execution_count": 14,
   "metadata": {
    "colab": {
     "base_uri": "https://localhost:8080/"
    },
    "id": "tFz9Tb0I9hE4",
    "outputId": "1c3b3528-54ae-4ee2-ab04-77429211cbef"
   },
   "outputs": [
    {
     "name": "stdout",
     "output_type": "stream",
     "text": [
      "1/1 [==============================] - 0s 251ms/step\n",
      "[9.0974623e-01 8.6439520e-02 3.7773561e-03 3.5826510e-05 1.1250589e-06]\n",
      "0\n"
     ]
    }
   ],
   "source": [
    "# Inference test\n",
    "predict_result = model.predict(np.array([X_test[0]]))\n",
    "print(np.squeeze(predict_result))\n",
    "print(np.argmax(np.squeeze(predict_result)))"
   ]
  },
  {
   "cell_type": "markdown",
   "metadata": {
    "id": "S3U4yNWx9hE4"
   },
   "source": [
    "# Confusion matrix"
   ]
  },
  {
   "cell_type": "code",
   "execution_count": 15,
   "metadata": {
    "colab": {
     "base_uri": "https://localhost:8080/",
     "height": 582
    },
    "id": "AP1V6SCk9hE5",
    "outputId": "08e41a80-7a4a-4619-8125-ecc371368d19"
   },
   "outputs": [
    {
     "name": "stdout",
     "output_type": "stream",
     "text": [
      "40/40 [==============================] - 0s 3ms/step\n"
     ]
    },
    {
     "data": {
      "image/png": "[encoded data removed]",
      "text/plain": [
       "<Figure size 700x600 with 2 Axes>"
      ]
     },
     "metadata": {},
     "output_type": "display_data"
    },
    {
     "name": "stdout",
     "output_type": "stream",
     "text": [
      "Classification Report\n",
      "              precision    recall  f1-score   support\n",
      "\n",
      "           0       0.98      0.97      0.98       394\n",
      "           1       0.99      0.91      0.95       388\n",
      "           2       0.90      0.99      0.94       325\n",
      "           3       0.97      0.96      0.96        90\n",
      "           4       1.00      1.00      1.00        70\n",
      "\n",
      "    accuracy                           0.96      1267\n",
      "   macro avg       0.97      0.97      0.97      1267\n",
      "weighted avg       0.96      0.96      0.96      1267\n",
      "\n"
     ]
    }
   ],
   "source": [
    "import pandas as pd\n",
    "import seaborn as sns\n",
    "import matplotlib.pyplot as plt\n",
    "from sklearn.metrics import confusion_matrix, classification_report\n",
    "\n",
    "def print_confusion_matrix(y_true, y_pred, report=True):\n",
    "    labels = sorted(list(set(y_true)))\n",
    "    cmx_data = confusion_matrix(y_true, y_pred, labels=labels)\n",
    "    \n",
    "    df_cmx = pd.DataFrame(cmx_data, index=labels, columns=labels)\n",
    " \n",
    "    fig, ax = plt.subplots(figsize=(7, 6))\n",
    "    sns.heatmap(df_cmx, annot=True, fmt='g' ,square=False)\n",
    "    ax.set_ylim(len(set(y_true)), 0)\n",
    "    plt.show()\n",
    "    \n",
    "    if report:\n",
    "        print('Classification Report')\n",
    "        print(classification_report(y_test, y_pred))\n",
    "\n",
    "Y_pred = model.predict(X_test)\n",
    "y_pred = np.argmax(Y_pred, axis=1)\n",
    "\n",
    "print_confusion_matrix(y_test, y_pred)"
   ]
  },
  {
   "cell_type": "markdown",
   "metadata": {
    "id": "FNP6aqzc9hE5"
   },
   "source": [
    "# Convert to model for Tensorflow-Lite"
   ]
  },
  {
   "cell_type": "code",
   "execution_count": 16,
   "metadata": {
    "id": "ODjnYyld9hE6"
   },
   "outputs": [],
   "source": [
    "# Save as a model dedicated to inference\n",
    "model.save(model_save_path, include_optimizer=False)"
   ]
  },
  {
   "cell_type": "code",
   "execution_count": 17,
   "metadata": {
    "colab": {
     "base_uri": "https://localhost:8080/"
    },
    "id": "zRfuK8Y59hE6",
    "outputId": "a4ca585c-b5d5-4244-8291-8674063209bb"
   },
   "outputs": [
    {
     "name": "stderr",
     "output_type": "stream",
     "text": [
      "WARNING:absl:Found untraced functions such as _update_step_xla while saving (showing 1 of 1). These functions will not be directly callable after loading.\n"
     ]
    },
    {
     "name": "stdout",
     "output_type": "stream",
     "text": [
      "INFO:tensorflow:Assets written to: C:\\Users\\CRAZYN~1\\AppData\\Local\\Temp\\tmpsuyv9b_r\\assets\n"
     ]
    },
    {
     "name": "stderr",
     "output_type": "stream",
     "text": [
      "INFO:tensorflow:Assets written to: C:\\Users\\CRAZYN~1\\AppData\\Local\\Temp\\tmpsuyv9b_r\\assets\n"
     ]
    },
    {
     "data": {
      "text/plain": [
       "6588"
      ]
     },
     "execution_count": 17,
     "metadata": {},
     "output_type": "execute_result"
    }
   ],
   "source": [
    "# Transform model (quantization)\n",
    "\n",
    "converter = tf.lite.TFLiteConverter.from_keras_model(model)\n",
    "converter.optimizations = [tf.lite.Optimize.DEFAULT]\n",
    "tflite_quantized_model = converter.convert()\n",
    "\n",
    "open(tflite_save_path, 'wb').write(tflite_quantized_model)"
   ]
  },
  {
   "cell_type": "markdown",
   "metadata": {
    "id": "CHBPBXdx9hE6"
   },
   "source": [
    "# Inference test"
   ]
  },
  {
   "cell_type": "code",
   "execution_count": 18,
   "metadata": {
    "id": "mGAzLocO9hE7"
   },
   "outputs": [],
   "source": [
    "interpreter = tf.lite.Interpreter(model_path=tflite_save_path)\n",
    "interpreter.allocate_tensors()"
   ]
  },
  {
   "cell_type": "code",
   "execution_count": 19,
   "metadata": {
    "id": "oQuDK8YS9hE7"
   },
   "outputs": [],
   "source": [
    "# Get I / O tensor\n",
    "input_details = interpreter.get_input_details()\n",
    "output_details = interpreter.get_output_details()"
   ]
  },
  {
   "cell_type": "code",
   "execution_count": 20,
   "metadata": {
    "id": "2_ixAf_l9hE7"
   },
   "outputs": [],
   "source": [
    "interpreter.set_tensor(input_details[0]['index'], np.array([X_test[0]]))"
   ]
  },
  {
   "cell_type": "code",
   "execution_count": 21,
   "metadata": {
    "colab": {
     "base_uri": "https://localhost:8080/"
    },
    "id": "s4FoAnuc9hE7",
    "outputId": "91f18257-8d8b-4ef3-c558-e9b5f94fabbf",
    "scrolled": true
   },
   "outputs": [
    {
     "name": "stdout",
     "output_type": "stream",
     "text": [
      "Wall time: 0 ns\n"
     ]
    }
   ],
   "source": [
    "%%time\n",
    "# Inference implementation\n",
    "interpreter.invoke()\n",
    "tflite_results = interpreter.get_tensor(output_details[0]['index'])"
   ]
  },
  {
   "cell_type": "code",
   "execution_count": 22,
   "metadata": {
    "colab": {
     "base_uri": "https://localhost:8080/"
    },
    "id": "vONjp19J9hE8",
    "outputId": "77205e24-fd00-42c4-f7b6-e06e527c2cba"
   },
   "outputs": [
    {
     "name": "stdout",
     "output_type": "stream",
     "text": [
      "[9.0974623e-01 8.6439572e-02 3.7773577e-03 3.5826441e-05 1.1250579e-06]\n",
      "0\n"
     ]
    }
   ],
   "source": [
    "print(np.squeeze(tflite_results))\n",
    "print(np.argmax(np.squeeze(tflite_results)))"
   ]
  }
 ],
 "metadata": {
  "accelerator": "GPU",
  "colab": {
   "collapsed_sections": [],
   "name": "keypoint_classification_EN.ipynb",
   "provenance": [],
   "toc_visible": true
  },
  "kernelspec": {
   "display_name": "Python 3 (ipykernel)",
   "language": "python",
   "name": "python3"
  },
  "language_info": {
   "codemirror_mode": {
    "name": "ipython",
    "version": 3
   },
   "file_extension": ".py",
   "mimetype": "text/x-python",
   "name": "python",
   "nbconvert_exporter": "python",
   "pygments_lexer": "ipython3",
   "version": "3.7.8"
  }
 },
 "nbformat": 4,
 "nbformat_minor": 1
}
